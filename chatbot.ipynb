{
  "cells": [
    {
      "cell_type": "markdown",
      "metadata": {
        "id": "view-in-github",
        "colab_type": "text"
      },
      "source": [
        "<a href=\"https://colab.research.google.com/github/pranaya-08/CodeAlpha_project_chatbot/blob/main/chatbot.ipynb\" target=\"_parent\"><img src=\"https://colab.research.google.com/assets/colab-badge.svg\" alt=\"Open In Colab\"/></a>"
      ]
    },
    {
      "cell_type": "code",
      "execution_count": null,
      "metadata": {
        "id": "bls42DaHl5xD"
      },
      "outputs": [],
      "source": []
    },
    {
      "cell_type": "code",
      "execution_count": null,
      "metadata": {
        "colab": {
          "base_uri": "https://localhost:8080/"
        },
        "id": "co21hqBal7ZY",
        "outputId": "22a3fcc8-7f66-4532-e714-fdda1b8ce648"
      },
      "outputs": [
        {
          "output_type": "stream",
          "name": "stdout",
          "text": [
            "WELCOME TO CHATBOT! HOW CAN I HELP YOU?\n",
            ">hi\n",
            "hii\n",
            ">hey\n",
            "hi there\n",
            ">how are you\n",
            "i am fine hoping you good\n",
            ">what is your name\n",
            "my name is chatbot\n",
            ">sorry\n",
            "machine cannot have feelings its ok.\n",
            ">Thank you\n",
            "your welcome!\n",
            ">what  is python\n",
            "it is a programming language\n",
            ">What is your favorite color?\n",
            "I don't have any favorite color\n",
            ">what is your age?\n",
            "I am ageless.\n",
            ">Tell me about weather condition?\n",
            "I don't know about te weather, but I can tal about anything!\n",
            ">Where are you from?\n",
            "I live in the digital world\n",
            ">Can you help me?\n",
            "Of course! How can I assist you?\n",
            ">What did you do?\n",
            "I am here to chat with you any questions you have\n",
            ">Are you a robot?\n",
            "I am a chatbot powered by artificial intelligence\n",
            ">data means?\n",
            "data is a collection of information\n",
            ">Bye\n",
            "have a nice day!\n",
            ">exit\n",
            "None\n"
          ]
        }
      ],
      "source": [
        "from nltk.chat.util import Chat,reflections\n",
        "pairs=[\n",
        "       [r'hi',['hii']],\n",
        "       [r'hii|hey|hello',['hi there']],\n",
        "       [r'how are you',['i am fine hoping you good']],\n",
        "       [r'what is your name',['my name is chatbot']],\n",
        "       [r'sorry',['machine cannot have feelings its ok.']],\n",
        "       [r'Thank you',['your welcome!']],\n",
        "       [r'what  is python',['it is a programming language']],\n",
        "       [r'What is your favorite color?',[\"I don't have any favorite color\"]],\n",
        "       [r'what is your age?',['I am ageless.']],\n",
        "       [r'Tell me about weather condition?',[\"I don't know about te weather, but I can tal about anything!\"]],\n",
        "       [r'Where are you from?',['I live in the digital world']],\n",
        "       [r'Can you help me?',['Of course! How can I assist you?']],\n",
        "       [r'What did you do?',['I am here to chat with you any questions you have']],\n",
        "       [r'Are you a robot?',['I am a chatbot powered by artificial intelligence']],\n",
        "       [r'data means?',['data is a collection of information']],\n",
        "       [r'Bye',['have a nice day!']],\n",
        "]\n",
        "chat=Chat(pairs,reflections)\n",
        "def start_chat():\n",
        "  print(\"WELCOME TO CHATBOT! HOW CAN I HELP YOU?\")\n",
        "  chat.converse()\n",
        "if __name__==\"__main__\":\n",
        "  start_chat()"
      ]
    }
  ],
  "metadata": {
    "colab": {
      "provenance": [],
      "authorship_tag": "ABX9TyOTlCDGq44SxJBdqL/NbVqz",
      "include_colab_link": true
    },
    "kernelspec": {
      "display_name": "Python 3",
      "name": "python3"
    },
    "language_info": {
      "name": "python"
    }
  },
  "nbformat": 4,
  "nbformat_minor": 0
}